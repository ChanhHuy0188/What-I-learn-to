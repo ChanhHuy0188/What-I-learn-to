{
  "nbformat": 4,
  "nbformat_minor": 0,
  "metadata": {
    "colab": {
      "name": "Practice 1",
      "provenance": [],
      "collapsed_sections": []
    },
    "kernelspec": {
      "name": "python3",
      "display_name": "Python 3"
    }
  },
  "cells": [
    {
      "cell_type": "markdown",
      "metadata": {
        "id": "IMQsGTwq0cac"
      },
      "source": [
        "# Stock Market Analysis for Tech Giants\n",
        "\n",
        "In this project, we will analyze \n",
        "information, visulaize it, analyze risks based of it's performance history.\n",
        "\n",
        "Here are questions we will try to answer:\n",
        "1. What was the change of price over time?\n",
        "2. What was the daily return on average of a stock?\n",
        "3. What was the moving average of various stock?\n",
        "4. What is the correlation between daily returns of different stock?\n",
        "5. How much value do we put at risk by investing in a stock?\n",
        "6. How can we attempt to predict future behavior?"
      ]
    },
    {
      "cell_type": "markdown",
      "metadata": {
        "id": "i_5SVaPYphYX"
      },
      "source": [
        "First, We need to mount my notebook to your Google Drive to save it.\n",
        "\n",
        "If you do not save, my notebook will be deleted after a number of hours"
      ]
    },
    {
      "cell_type": "code",
      "metadata": {
        "colab": {
          "base_uri": "https://localhost:8080/"
        },
        "id": "8LNelvaCJvI1",
        "outputId": "a41a9f4a-341e-4663-adb1-0072c99709df"
      },
      "source": [
        "from google.colab import drive\n",
        "drive.mount('/content/gdrive')"
      ],
      "execution_count": null,
      "outputs": [
        {
          "output_type": "stream",
          "text": [
            "Mounted at /content/gdrive\n"
          ],
          "name": "stdout"
        }
      ]
    },
    {
      "cell_type": "markdown",
      "metadata": {
        "id": "IOrnRRRvqXzE"
      },
      "source": [
        "Check your files: Make sure the existence of your file in your Drive."
      ]
    },
    {
      "cell_type": "code",
      "metadata": {
        "colab": {
          "base_uri": "https://localhost:8080/"
        },
        "id": "Rk1gGVIiQDJQ",
        "outputId": "4276f697-8a23-44c9-da74-70aaf89e0aad"
      },
      "source": [
        "import os \n",
        "path_Data='//content//gdrive//MyDrive//First Pratice//'\n",
        "checkPath=os.path.isdir(path_Data)\n",
        "print(checkPath)\n",
        "checkA=os.path.isfile(path_Data+'Stock market Problem//AAPL.csv')\n",
        "checkG=os.path.isfile(path_Data+'Stock market Problem//GOOG.csv')\n",
        "checkM=os.path.isfile(path_Data+'Stock market Problem//MSFT.csv')\n",
        "print(checkA,checkG,checkM)"
      ],
      "execution_count": null,
      "outputs": [
        {
          "output_type": "stream",
          "text": [
            "True\n",
            "True True True\n"
          ],
          "name": "stdout"
        }
      ]
    },
    {
      "cell_type": "markdown",
      "metadata": {
        "id": "GSRP69q3qmhE"
      },
      "source": [
        "Take data from CSV file and see its types and shapes"
      ]
    },
    {
      "cell_type": "code",
      "metadata": {
        "colab": {
          "base_uri": "https://localhost:8080/"
        },
        "id": "iyiNRSWZQvqq",
        "outputId": "467aa1cd-de30-4565-8541-2563ac8a356d"
      },
      "source": [
        "import pandas as pd \n",
        "\n",
        "AAPL = pd.read_csv(path_Data + 'Stock market Problem//AAPL.csv')\n",
        "GOOG= pd.read_csv(path_Data + 'Stock market Problem//GOOG.csv')\n",
        "MSFT=pd.read_csv(path_Data + 'Stock market Problem//MSFT.csv')\n",
        "\n",
        "print(type(AAPL),type(GOOG),type(MSFT))\n",
        "print(\"AAPL: \",AAPL.shape,AAPL.shape[0],AAPL.shape[1])\n",
        "print(\"GOOG: \",GOOG.shape,GOOG.shape[0],GOOG.shape[1])\n",
        "print(\"MSFT: \",MSFT.shape,MSFT.shape[0],MSFT.shape[1])\n"
      ],
      "execution_count": null,
      "outputs": [
        {
          "output_type": "stream",
          "text": [
            "<class 'pandas.core.frame.DataFrame'> <class 'pandas.core.frame.DataFrame'> <class 'pandas.core.frame.DataFrame'>\n",
            "AAPL:  (252, 7) 252 7\n",
            "GOOG:  (252, 7) 252 7\n",
            "MSFT:  (252, 7) 252 7\n"
          ],
          "name": "stdout"
        }
      ]
    },
    {
      "cell_type": "markdown",
      "metadata": {
        "id": "eULbXzFA2Fu4"
      },
      "source": [
        "Take a quick look at your data"
      ]
    },
    {
      "cell_type": "code",
      "metadata": {
        "colab": {
          "base_uri": "https://localhost:8080/",
          "height": 577
        },
        "id": "Rkx-UglvScOY",
        "outputId": "0362025c-98ed-4710-e57c-72c0155a20c1"
      },
      "source": [
        "display(AAPL.head())\n",
        "display(GOOG.tail())\n",
        "display(MSFT.head(3))\n"
      ],
      "execution_count": null,
      "outputs": [
        {
          "output_type": "display_data",
          "data": {
            "text/html": [
              "<div>\n",
              "<style scoped>\n",
              "    .dataframe tbody tr th:only-of-type {\n",
              "        vertical-align: middle;\n",
              "    }\n",
              "\n",
              "    .dataframe tbody tr th {\n",
              "        vertical-align: top;\n",
              "    }\n",
              "\n",
              "    .dataframe thead th {\n",
              "        text-align: right;\n",
              "    }\n",
              "</style>\n",
              "<table border=\"1\" class=\"dataframe\">\n",
              "  <thead>\n",
              "    <tr style=\"text-align: right;\">\n",
              "      <th></th>\n",
              "      <th>Date</th>\n",
              "      <th>High</th>\n",
              "      <th>Low</th>\n",
              "      <th>Open</th>\n",
              "      <th>Close</th>\n",
              "      <th>Volume</th>\n",
              "      <th>Adj Close</th>\n",
              "    </tr>\n",
              "  </thead>\n",
              "  <tbody>\n",
              "    <tr>\n",
              "      <th>0</th>\n",
              "      <td>12/30/2019</td>\n",
              "      <td>73.172501</td>\n",
              "      <td>71.305000</td>\n",
              "      <td>72.364998</td>\n",
              "      <td>72.879997</td>\n",
              "      <td>144114400</td>\n",
              "      <td>72.255997</td>\n",
              "    </tr>\n",
              "    <tr>\n",
              "      <th>1</th>\n",
              "      <td>12/31/2019</td>\n",
              "      <td>73.419998</td>\n",
              "      <td>72.379997</td>\n",
              "      <td>72.482498</td>\n",
              "      <td>73.412498</td>\n",
              "      <td>100805600</td>\n",
              "      <td>72.783936</td>\n",
              "    </tr>\n",
              "    <tr>\n",
              "      <th>2</th>\n",
              "      <td>1/2/2020</td>\n",
              "      <td>75.150002</td>\n",
              "      <td>73.797501</td>\n",
              "      <td>74.059998</td>\n",
              "      <td>75.087502</td>\n",
              "      <td>135480400</td>\n",
              "      <td>74.444603</td>\n",
              "    </tr>\n",
              "    <tr>\n",
              "      <th>3</th>\n",
              "      <td>1/3/2020</td>\n",
              "      <td>75.144997</td>\n",
              "      <td>74.125000</td>\n",
              "      <td>74.287498</td>\n",
              "      <td>74.357498</td>\n",
              "      <td>146322800</td>\n",
              "      <td>73.720840</td>\n",
              "    </tr>\n",
              "    <tr>\n",
              "      <th>4</th>\n",
              "      <td>1/6/2020</td>\n",
              "      <td>74.989998</td>\n",
              "      <td>73.187500</td>\n",
              "      <td>73.447502</td>\n",
              "      <td>74.949997</td>\n",
              "      <td>118387200</td>\n",
              "      <td>74.308266</td>\n",
              "    </tr>\n",
              "  </tbody>\n",
              "</table>\n",
              "</div>"
            ],
            "text/plain": [
              "         Date       High        Low       Open      Close     Volume  Adj Close\n",
              "0  12/30/2019  73.172501  71.305000  72.364998  72.879997  144114400  72.255997\n",
              "1  12/31/2019  73.419998  72.379997  72.482498  73.412498  100805600  72.783936\n",
              "2    1/2/2020  75.150002  73.797501  74.059998  75.087502  135480400  74.444603\n",
              "3    1/3/2020  75.144997  74.125000  74.287498  74.357498  146322800  73.720840\n",
              "4    1/6/2020  74.989998  73.187500  73.447502  74.949997  118387200  74.308266"
            ]
          },
          "metadata": {
            "tags": []
          }
        },
        {
          "output_type": "display_data",
          "data": {
            "text/html": [
              "<div>\n",
              "<style scoped>\n",
              "    .dataframe tbody tr th:only-of-type {\n",
              "        vertical-align: middle;\n",
              "    }\n",
              "\n",
              "    .dataframe tbody tr th {\n",
              "        vertical-align: top;\n",
              "    }\n",
              "\n",
              "    .dataframe thead th {\n",
              "        text-align: right;\n",
              "    }\n",
              "</style>\n",
              "<table border=\"1\" class=\"dataframe\">\n",
              "  <thead>\n",
              "    <tr style=\"text-align: right;\">\n",
              "      <th></th>\n",
              "      <th>Date</th>\n",
              "      <th>High</th>\n",
              "      <th>Low</th>\n",
              "      <th>Open</th>\n",
              "      <th>Close</th>\n",
              "      <th>Volume</th>\n",
              "      <th>Adj Close</th>\n",
              "    </tr>\n",
              "  </thead>\n",
              "  <tbody>\n",
              "    <tr>\n",
              "      <th>247</th>\n",
              "      <td>2020-12-21</td>\n",
              "      <td>1740.849976</td>\n",
              "      <td>1699.000000</td>\n",
              "      <td>1713.510010</td>\n",
              "      <td>1739.369995</td>\n",
              "      <td>1828400</td>\n",
              "      <td>1739.369995</td>\n",
              "    </tr>\n",
              "    <tr>\n",
              "      <th>248</th>\n",
              "      <td>2020-12-22</td>\n",
              "      <td>1737.405029</td>\n",
              "      <td>1712.574951</td>\n",
              "      <td>1734.430054</td>\n",
              "      <td>1723.500000</td>\n",
              "      <td>936700</td>\n",
              "      <td>1723.500000</td>\n",
              "    </tr>\n",
              "    <tr>\n",
              "      <th>249</th>\n",
              "      <td>2020-12-23</td>\n",
              "      <td>1747.989990</td>\n",
              "      <td>1725.040039</td>\n",
              "      <td>1728.109985</td>\n",
              "      <td>1732.380005</td>\n",
              "      <td>1033800</td>\n",
              "      <td>1732.380005</td>\n",
              "    </tr>\n",
              "    <tr>\n",
              "      <th>250</th>\n",
              "      <td>2020-12-24</td>\n",
              "      <td>1746.000000</td>\n",
              "      <td>1729.109985</td>\n",
              "      <td>1735.000000</td>\n",
              "      <td>1738.849976</td>\n",
              "      <td>346800</td>\n",
              "      <td>1738.849976</td>\n",
              "    </tr>\n",
              "    <tr>\n",
              "      <th>251</th>\n",
              "      <td>2020-12-28</td>\n",
              "      <td>1790.728027</td>\n",
              "      <td>1746.334961</td>\n",
              "      <td>1751.635010</td>\n",
              "      <td>1776.089966</td>\n",
              "      <td>1392500</td>\n",
              "      <td>1776.089966</td>\n",
              "    </tr>\n",
              "  </tbody>\n",
              "</table>\n",
              "</div>"
            ],
            "text/plain": [
              "           Date         High          Low  ...        Close   Volume    Adj Close\n",
              "247  2020-12-21  1740.849976  1699.000000  ...  1739.369995  1828400  1739.369995\n",
              "248  2020-12-22  1737.405029  1712.574951  ...  1723.500000   936700  1723.500000\n",
              "249  2020-12-23  1747.989990  1725.040039  ...  1732.380005  1033800  1732.380005\n",
              "250  2020-12-24  1746.000000  1729.109985  ...  1738.849976   346800  1738.849976\n",
              "251  2020-12-28  1790.728027  1746.334961  ...  1776.089966  1392500  1776.089966\n",
              "\n",
              "[5 rows x 7 columns]"
            ]
          },
          "metadata": {
            "tags": []
          }
        },
        {
          "output_type": "display_data",
          "data": {
            "text/html": [
              "<div>\n",
              "<style scoped>\n",
              "    .dataframe tbody tr th:only-of-type {\n",
              "        vertical-align: middle;\n",
              "    }\n",
              "\n",
              "    .dataframe tbody tr th {\n",
              "        vertical-align: top;\n",
              "    }\n",
              "\n",
              "    .dataframe thead th {\n",
              "        text-align: right;\n",
              "    }\n",
              "</style>\n",
              "<table border=\"1\" class=\"dataframe\">\n",
              "  <thead>\n",
              "    <tr style=\"text-align: right;\">\n",
              "      <th></th>\n",
              "      <th>Date</th>\n",
              "      <th>High</th>\n",
              "      <th>Low</th>\n",
              "      <th>Open</th>\n",
              "      <th>Close</th>\n",
              "      <th>Volume</th>\n",
              "      <th>Adj Close</th>\n",
              "    </tr>\n",
              "  </thead>\n",
              "  <tbody>\n",
              "    <tr>\n",
              "      <th>0</th>\n",
              "      <td>2019-12-30</td>\n",
              "      <td>159.020004</td>\n",
              "      <td>156.729996</td>\n",
              "      <td>158.990005</td>\n",
              "      <td>157.589996</td>\n",
              "      <td>16348400.0</td>\n",
              "      <td>155.938049</td>\n",
              "    </tr>\n",
              "    <tr>\n",
              "      <th>1</th>\n",
              "      <td>2019-12-31</td>\n",
              "      <td>157.770004</td>\n",
              "      <td>156.449997</td>\n",
              "      <td>156.770004</td>\n",
              "      <td>157.699997</td>\n",
              "      <td>18369400.0</td>\n",
              "      <td>156.046890</td>\n",
              "    </tr>\n",
              "    <tr>\n",
              "      <th>2</th>\n",
              "      <td>2020-01-02</td>\n",
              "      <td>160.729996</td>\n",
              "      <td>158.330002</td>\n",
              "      <td>158.779999</td>\n",
              "      <td>160.619995</td>\n",
              "      <td>22622100.0</td>\n",
              "      <td>158.936279</td>\n",
              "    </tr>\n",
              "  </tbody>\n",
              "</table>\n",
              "</div>"
            ],
            "text/plain": [
              "         Date        High         Low  ...       Close      Volume   Adj Close\n",
              "0  2019-12-30  159.020004  156.729996  ...  157.589996  16348400.0  155.938049\n",
              "1  2019-12-31  157.770004  156.449997  ...  157.699997  18369400.0  156.046890\n",
              "2  2020-01-02  160.729996  158.330002  ...  160.619995  22622100.0  158.936279\n",
              "\n",
              "[3 rows x 7 columns]"
            ]
          },
          "metadata": {
            "tags": []
          }
        }
      ]
    },
    {
      "cell_type": "markdown",
      "metadata": {
        "id": "dEQKa3iY-R4G"
      },
      "source": [
        "From this table, we can see our data has 7 columns and 251 rows and values in this table is so nice "
      ]
    },
    {
      "cell_type": "code",
      "metadata": {
        "colab": {
          "base_uri": "https://localhost:8080/",
          "height": 195
        },
        "id": "HcreJxSZSlFy",
        "outputId": "84d5883b-9a2b-4c31-9033-6c7218293fea"
      },
      "source": [
        "AAPL['Adj Close'] = AAPL['Adj Close'].round(decimals=3)\n",
        "AAPL.head()"
      ],
      "execution_count": null,
      "outputs": [
        {
          "output_type": "execute_result",
          "data": {
            "text/html": [
              "<div>\n",
              "<style scoped>\n",
              "    .dataframe tbody tr th:only-of-type {\n",
              "        vertical-align: middle;\n",
              "    }\n",
              "\n",
              "    .dataframe tbody tr th {\n",
              "        vertical-align: top;\n",
              "    }\n",
              "\n",
              "    .dataframe thead th {\n",
              "        text-align: right;\n",
              "    }\n",
              "</style>\n",
              "<table border=\"1\" class=\"dataframe\">\n",
              "  <thead>\n",
              "    <tr style=\"text-align: right;\">\n",
              "      <th></th>\n",
              "      <th>Date</th>\n",
              "      <th>High</th>\n",
              "      <th>Low</th>\n",
              "      <th>Open</th>\n",
              "      <th>Close</th>\n",
              "      <th>Volume</th>\n",
              "      <th>Adj Close</th>\n",
              "    </tr>\n",
              "  </thead>\n",
              "  <tbody>\n",
              "    <tr>\n",
              "      <th>0</th>\n",
              "      <td>12/30/2019</td>\n",
              "      <td>73.172501</td>\n",
              "      <td>71.305000</td>\n",
              "      <td>72.364998</td>\n",
              "      <td>72.879997</td>\n",
              "      <td>144114400</td>\n",
              "      <td>72.256</td>\n",
              "    </tr>\n",
              "    <tr>\n",
              "      <th>1</th>\n",
              "      <td>12/31/2019</td>\n",
              "      <td>73.419998</td>\n",
              "      <td>72.379997</td>\n",
              "      <td>72.482498</td>\n",
              "      <td>73.412498</td>\n",
              "      <td>100805600</td>\n",
              "      <td>72.784</td>\n",
              "    </tr>\n",
              "    <tr>\n",
              "      <th>2</th>\n",
              "      <td>1/2/2020</td>\n",
              "      <td>75.150002</td>\n",
              "      <td>73.797501</td>\n",
              "      <td>74.059998</td>\n",
              "      <td>75.087502</td>\n",
              "      <td>135480400</td>\n",
              "      <td>74.445</td>\n",
              "    </tr>\n",
              "    <tr>\n",
              "      <th>3</th>\n",
              "      <td>1/3/2020</td>\n",
              "      <td>75.144997</td>\n",
              "      <td>74.125000</td>\n",
              "      <td>74.287498</td>\n",
              "      <td>74.357498</td>\n",
              "      <td>146322800</td>\n",
              "      <td>73.721</td>\n",
              "    </tr>\n",
              "    <tr>\n",
              "      <th>4</th>\n",
              "      <td>1/6/2020</td>\n",
              "      <td>74.989998</td>\n",
              "      <td>73.187500</td>\n",
              "      <td>73.447502</td>\n",
              "      <td>74.949997</td>\n",
              "      <td>118387200</td>\n",
              "      <td>74.308</td>\n",
              "    </tr>\n",
              "  </tbody>\n",
              "</table>\n",
              "</div>"
            ],
            "text/plain": [
              "         Date       High        Low       Open      Close     Volume  Adj Close\n",
              "0  12/30/2019  73.172501  71.305000  72.364998  72.879997  144114400     72.256\n",
              "1  12/31/2019  73.419998  72.379997  72.482498  73.412498  100805600     72.784\n",
              "2    1/2/2020  75.150002  73.797501  74.059998  75.087502  135480400     74.445\n",
              "3    1/3/2020  75.144997  74.125000  74.287498  74.357498  146322800     73.721\n",
              "4    1/6/2020  74.989998  73.187500  73.447502  74.949997  118387200     74.308"
            ]
          },
          "metadata": {
            "tags": []
          },
          "execution_count": 9
        }
      ]
    },
    {
      "cell_type": "markdown",
      "metadata": {
        "id": "2_rYWrNzrQUr"
      },
      "source": [
        "Have a general view:\n",
        "- **Count**: Count number of non-NA/null observations.\n",
        "- **Mean**:  The sum of all of the data values divided by the number of data values.\n",
        "- **Std**: Standard deviation (In statistics, the standard deviation is a measure of the amount of variation or dispersion of a set of values.[1] A low standard deviation indicates that the values tend to be close to the mean (also called the expected value) of the set, while a high standard deviation indicates that the values are spread out over a wider range.)\n",
        "- **25%, 50%, 75%**: For numeric data, the result’s index will include count, mean, std, min, max as well as lower, 50 and upper percentiles. By default the lower percentile is 25 and the upper percentile is 75. The 50 percentile is the same as the median.\n",
        "- **Min, Max** is Min, Max ^^"
      ]
    },
    {
      "cell_type": "code",
      "metadata": {
        "colab": {
          "base_uri": "https://localhost:8080/",
          "height": 284
        },
        "id": "ZMFQ6HMjSu6L",
        "outputId": "d2650548-5964-4a09-c624-18f636a0bb37"
      },
      "source": [
        "AAPL.describe()"
      ],
      "execution_count": null,
      "outputs": [
        {
          "output_type": "execute_result",
          "data": {
            "text/html": [
              "<div>\n",
              "<style scoped>\n",
              "    .dataframe tbody tr th:only-of-type {\n",
              "        vertical-align: middle;\n",
              "    }\n",
              "\n",
              "    .dataframe tbody tr th {\n",
              "        vertical-align: top;\n",
              "    }\n",
              "\n",
              "    .dataframe thead th {\n",
              "        text-align: right;\n",
              "    }\n",
              "</style>\n",
              "<table border=\"1\" class=\"dataframe\">\n",
              "  <thead>\n",
              "    <tr style=\"text-align: right;\">\n",
              "      <th></th>\n",
              "      <th>High</th>\n",
              "      <th>Low</th>\n",
              "      <th>Open</th>\n",
              "      <th>Close</th>\n",
              "      <th>Volume</th>\n",
              "      <th>Adj Close</th>\n",
              "    </tr>\n",
              "  </thead>\n",
              "  <tbody>\n",
              "    <tr>\n",
              "      <th>count</th>\n",
              "      <td>252.000000</td>\n",
              "      <td>252.000000</td>\n",
              "      <td>252.000000</td>\n",
              "      <td>252.000000</td>\n",
              "      <td>2.520000e+02</td>\n",
              "      <td>252.000000</td>\n",
              "    </tr>\n",
              "    <tr>\n",
              "      <th>mean</th>\n",
              "      <td>96.001984</td>\n",
              "      <td>93.270486</td>\n",
              "      <td>94.602609</td>\n",
              "      <td>94.713581</td>\n",
              "      <td>1.529956e+08</td>\n",
              "      <td>94.404163</td>\n",
              "    </tr>\n",
              "    <tr>\n",
              "      <th>std</th>\n",
              "      <td>21.794985</td>\n",
              "      <td>21.274377</td>\n",
              "      <td>21.688715</td>\n",
              "      <td>21.527714</td>\n",
              "      <td>7.279392e+07</td>\n",
              "      <td>21.670569</td>\n",
              "    </tr>\n",
              "    <tr>\n",
              "      <th>min</th>\n",
              "      <td>57.125000</td>\n",
              "      <td>53.152500</td>\n",
              "      <td>57.020000</td>\n",
              "      <td>56.092499</td>\n",
              "      <td>2.420510e+07</td>\n",
              "      <td>55.744000</td>\n",
              "    </tr>\n",
              "    <tr>\n",
              "      <th>25%</th>\n",
              "      <td>77.602499</td>\n",
              "      <td>75.740623</td>\n",
              "      <td>76.339378</td>\n",
              "      <td>77.219378</td>\n",
              "      <td>1.055816e+08</td>\n",
              "      <td>76.653250</td>\n",
              "    </tr>\n",
              "    <tr>\n",
              "      <th>50%</th>\n",
              "      <td>92.018749</td>\n",
              "      <td>89.814999</td>\n",
              "      <td>91.051250</td>\n",
              "      <td>91.113747</td>\n",
              "      <td>1.372656e+08</td>\n",
              "      <td>90.793000</td>\n",
              "    </tr>\n",
              "    <tr>\n",
              "      <th>75%</th>\n",
              "      <td>117.040625</td>\n",
              "      <td>113.973751</td>\n",
              "      <td>115.587502</td>\n",
              "      <td>115.545626</td>\n",
              "      <td>1.830576e+08</td>\n",
              "      <td>115.346500</td>\n",
              "    </tr>\n",
              "    <tr>\n",
              "      <th>max</th>\n",
              "      <td>137.979996</td>\n",
              "      <td>133.509995</td>\n",
              "      <td>137.589996</td>\n",
              "      <td>136.690002</td>\n",
              "      <td>4.268848e+08</td>\n",
              "      <td>136.690000</td>\n",
              "    </tr>\n",
              "  </tbody>\n",
              "</table>\n",
              "</div>"
            ],
            "text/plain": [
              "             High         Low        Open       Close        Volume   Adj Close\n",
              "count  252.000000  252.000000  252.000000  252.000000  2.520000e+02  252.000000\n",
              "mean    96.001984   93.270486   94.602609   94.713581  1.529956e+08   94.404163\n",
              "std     21.794985   21.274377   21.688715   21.527714  7.279392e+07   21.670569\n",
              "min     57.125000   53.152500   57.020000   56.092499  2.420510e+07   55.744000\n",
              "25%     77.602499   75.740623   76.339378   77.219378  1.055816e+08   76.653250\n",
              "50%     92.018749   89.814999   91.051250   91.113747  1.372656e+08   90.793000\n",
              "75%    117.040625  113.973751  115.587502  115.545626  1.830576e+08  115.346500\n",
              "max    137.979996  133.509995  137.589996  136.690002  4.268848e+08  136.690000"
            ]
          },
          "metadata": {
            "tags": []
          },
          "execution_count": 10
        }
      ]
    },
    {
      "cell_type": "markdown",
      "metadata": {
        "id": "JgGvWCiYs_Vu"
      },
      "source": [
        "Some concepts in statistics and its code in Python: Mean, Median, Std \n",
        "\n",
        "**Median**: The middle number in a set of data when the data is arranged in ascending (this is more common) or descending order. If there are an even number of values in the data set, the median is the arithmetic mean of the two middle numbers. Thus, the median separates the lower and higher half of a data set."
      ]
    },
    {
      "cell_type": "code",
      "metadata": {
        "colab": {
          "base_uri": "https://localhost:8080/"
        },
        "id": "ey51IUrPSxZQ",
        "outputId": "25220ca5-7d3f-429b-ed94-3858626e1eed"
      },
      "source": [
        "import statistics\n",
        "adjValues=AAPL['Adj Close'].values\n",
        "mean_value=statistics.mean(adjValues)\n",
        "median_value=statistics.median(adjValues)\n",
        "std_value=statistics.stdev(adjValues)\n",
        "print(mean_value,median_value,std_value)"
      ],
      "execution_count": null,
      "outputs": [
        {
          "output_type": "stream",
          "text": [
            "94.4041626984127 90.793 21.670569203849773\n"
          ],
          "name": "stdout"
        }
      ]
    },
    {
      "cell_type": "markdown",
      "metadata": {
        "id": "mQzN1vVVtv6z"
      },
      "source": [
        "**Data visualization**:  An accessible way to see and understand trends, outliers, and patterns in data.\n",
        "\n",
        "**Seaborn**: A Python data visualization library based on matplotlib. It provides a high-level interface for drawing attractive and informative statistical graphics.\n"
      ]
    },
    {
      "cell_type": "code",
      "metadata": {
        "colab": {
          "base_uri": "https://localhost:8080/",
          "height": 306
        },
        "id": "0ozqYZEaTOBF",
        "outputId": "b520c078-2ba3-438f-bf16-5d459a54df1b"
      },
      "source": [
        "import seaborn as sns\n",
        "sns.set_style('whitegrid')\n",
        "\n",
        "AAPL['Adj Close'].plot(legend = True,figsize=(12,5))"
      ],
      "execution_count": null,
      "outputs": [
        {
          "output_type": "execute_result",
          "data": {
            "text/plain": [
              "<matplotlib.axes._subplots.AxesSubplot at 0x7f01110bd198>"
            ]
          },
          "metadata": {
            "tags": []
          },
          "execution_count": 13
        },
        {
          "output_type": "display_data",
          "data": {
            "image/png": "[encoded data removed]",
            "text/plain": [
              "<Figure size 864x360 with 1 Axes>"
            ]
          },
          "metadata": {
            "tags": []
          }
        }
      ]
    },
    {
      "cell_type": "markdown",
      "metadata": {
        "id": "YLCuP244vIBl"
      },
      "source": [
        "Create some new columns to know values of a group of data.\n",
        "\n",
        "In stock market, people usually use data by day, month, year but in this example I want to know group of 10, 20, 50 days "
      ]
    },
    {
      "cell_type": "code",
      "metadata": {
        "id": "YHMfXJgoTaCy"
      },
      "source": [
        "ma = 10\n",
        "column_name = 'MA %s days' %(str(ma))\n",
        "AAPL[column_name]=AAPL['Adj Close'].rolling(window=ma,center=False).mean()\n",
        "\n",
        "ma = 20\n",
        "column_name = 'MA %s days' %(str(ma))\n",
        "AAPL[column_name]=AAPL['Adj Close'].rolling(window=ma,center=False).mean()\n",
        "\n",
        "ma = 50\n",
        "column_name = 'MA %s days' %(str(ma))\n",
        "AAPL[column_name]=AAPL['Adj Close'].rolling(window=ma,center=False).mean()"
      ],
      "execution_count": null,
      "outputs": []
    },
    {
      "cell_type": "markdown",
      "metadata": {
        "id": "jRdrttIKwa89"
      },
      "source": [
        "Take a look at new columns\n",
        "\n",
        "The NaN values in new columns is Okay because you can have the values of 10 days when you are in the first day "
      ]
    },
    {
      "cell_type": "code",
      "metadata": {
        "colab": {
          "base_uri": "https://localhost:8080/",
          "height": 1000
        },
        "id": "MuxuhIkdTuyE",
        "outputId": "3e742202-5a7a-428c-befb-9584e620afd3"
      },
      "source": [
        "AAPL.head(55)"
      ],
      "execution_count": null,
      "outputs": [
        {
          "output_type": "execute_result",
          "data": {
            "text/html": [
              "<div>\n",
              "<style scoped>\n",
              "    .dataframe tbody tr th:only-of-type {\n",
              "        vertical-align: middle;\n",
              "    }\n",
              "\n",
              "    .dataframe tbody tr th {\n",
              "        vertical-align: top;\n",
              "    }\n",
              "\n",
              "    .dataframe thead th {\n",
              "        text-align: right;\n",
              "    }\n",
              "</style>\n",
              "<table border=\"1\" class=\"dataframe\">\n",
              "  <thead>\n",
              "    <tr style=\"text-align: right;\">\n",
              "      <th></th>\n",
              "      <th>Date</th>\n",
              "      <th>High</th>\n",
              "      <th>Low</th>\n",
              "      <th>Open</th>\n",
              "      <th>Close</th>\n",
              "      <th>Volume</th>\n",
              "      <th>Adj Close</th>\n",
              "      <th>MA 10 days</th>\n",
              "      <th>MA 20 days</th>\n",
              "      <th>MA 50 days</th>\n",
              "    </tr>\n",
              "  </thead>\n",
              "  <tbody>\n",
              "    <tr>\n",
              "      <th>0</th>\n",
              "      <td>12/30/2019</td>\n",
              "      <td>73.172501</td>\n",
              "      <td>71.305000</td>\n",
              "      <td>72.364998</td>\n",
              "      <td>72.879997</td>\n",
              "      <td>144114400</td>\n",
              "      <td>72.256</td>\n",
              "      <td>NaN</td>\n",
              "      <td>NaN</td>\n",
              "      <td>NaN</td>\n",
              "    </tr>\n",
              "    <tr>\n",
              "      <th>1</th>\n",
              "      <td>12/31/2019</td>\n",
              "      <td>73.419998</td>\n",
              "      <td>72.379997</td>\n",
              "      <td>72.482498</td>\n",
              "      <td>73.412498</td>\n",
              "      <td>100805600</td>\n",
              "      <td>72.784</td>\n",
              "      <td>NaN</td>\n",
              "      <td>NaN</td>\n",
              "      <td>NaN</td>\n",
              "    </tr>\n",
              "    <tr>\n",
              "      <th>2</th>\n",
              "      <td>1/2/2020</td>\n",
              "      <td>75.150002</td>\n",
              "      <td>73.797501</td>\n",
              "      <td>74.059998</td>\n",
              "      <td>75.087502</td>\n",
              "      <td>135480400</td>\n",
              "      <td>74.445</td>\n",
              "      <td>NaN</td>\n",
              "      <td>NaN</td>\n",
              "      <td>NaN</td>\n",
              "    </tr>\n",
              "    <tr>\n",
              "      <th>3</th>\n",
              "      <td>1/3/2020</td>\n",
              "      <td>75.144997</td>\n",
              "      <td>74.125000</td>\n",
              "      <td>74.287498</td>\n",
              "      <td>74.357498</td>\n",
              "      <td>146322800</td>\n",
              "      <td>73.721</td>\n",
              "      <td>NaN</td>\n",
              "      <td>NaN</td>\n",
              "      <td>NaN</td>\n",
              "    </tr>\n",
              "    <tr>\n",
              "      <th>4</th>\n",
              "      <td>1/6/2020</td>\n",
              "      <td>74.989998</td>\n",
              "      <td>73.187500</td>\n",
              "      <td>73.447502</td>\n",
              "      <td>74.949997</td>\n",
              "      <td>118387200</td>\n",
              "      <td>74.308</td>\n",
              "      <td>NaN</td>\n",
              "      <td>NaN</td>\n",
              "      <td>NaN</td>\n",
              "    </tr>\n",
              "    <tr>\n",
              "      <th>5</th>\n",
              "      <td>1/7/2020</td>\n",
              "      <td>75.224998</td>\n",
              "      <td>74.370003</td>\n",
              "      <td>74.959999</td>\n",
              "      <td>74.597504</td>\n",
              "      <td>108872000</td>\n",
              "      <td>73.959</td>\n",
              "      <td>NaN</td>\n",
              "      <td>NaN</td>\n",
              "      <td>NaN</td>\n",
              "    </tr>\n",
              "    <tr>\n",
              "      <th>6</th>\n",
              "      <td>1/8/2020</td>\n",
              "      <td>76.110001</td>\n",
              "      <td>74.290001</td>\n",
              "      <td>74.290001</td>\n",
              "      <td>75.797501</td>\n",
              "      <td>132079200</td>\n",
              "      <td>75.149</td>\n",
              "      <td>NaN</td>\n",
              "      <td>NaN</td>\n",
              "      <td>NaN</td>\n",
              "    </tr>\n",
              "    <tr>\n",
              "      <th>7</th>\n",
              "      <td>1/9/2020</td>\n",
              "      <td>77.607498</td>\n",
              "      <td>76.550003</td>\n",
              "      <td>76.809998</td>\n",
              "      <td>77.407501</td>\n",
              "      <td>170108400</td>\n",
              "      <td>76.745</td>\n",
              "      <td>NaN</td>\n",
              "      <td>NaN</td>\n",
              "      <td>NaN</td>\n",
              "    </tr>\n",
              "    <tr>\n",
              "      <th>8</th>\n",
              "      <td>1/10/2020</td>\n",
              "      <td>78.167503</td>\n",
              "      <td>77.062500</td>\n",
              "      <td>77.650002</td>\n",
              "      <td>77.582497</td>\n",
              "      <td>140644800</td>\n",
              "      <td>76.918</td>\n",
              "      <td>NaN</td>\n",
              "      <td>NaN</td>\n",
              "      <td>NaN</td>\n",
              "    </tr>\n",
              "    <tr>\n",
              "      <th>9</th>\n",
              "      <td>1/13/2020</td>\n",
              "      <td>79.267502</td>\n",
              "      <td>77.787498</td>\n",
              "      <td>77.910004</td>\n",
              "      <td>79.239998</td>\n",
              "      <td>121532000</td>\n",
              "      <td>78.562</td>\n",
              "      <td>74.8847</td>\n",
              "      <td>NaN</td>\n",
              "      <td>NaN</td>\n",
              "    </tr>\n",
              "    <tr>\n",
              "      <th>10</th>\n",
              "      <td>1/14/2020</td>\n",
              "      <td>79.392502</td>\n",
              "      <td>78.042503</td>\n",
              "      <td>79.175003</td>\n",
              "      <td>78.169998</td>\n",
              "      <td>161954400</td>\n",
              "      <td>77.501</td>\n",
              "      <td>75.4092</td>\n",
              "      <td>NaN</td>\n",
              "      <td>NaN</td>\n",
              "    </tr>\n",
              "    <tr>\n",
              "      <th>11</th>\n",
              "      <td>1/15/2020</td>\n",
              "      <td>78.875000</td>\n",
              "      <td>77.387497</td>\n",
              "      <td>77.962502</td>\n",
              "      <td>77.834999</td>\n",
              "      <td>121923600</td>\n",
              "      <td>77.169</td>\n",
              "      <td>75.8477</td>\n",
              "      <td>NaN</td>\n",
              "      <td>NaN</td>\n",
              "    </tr>\n",
              "    <tr>\n",
              "      <th>12</th>\n",
              "      <td>1/16/2020</td>\n",
              "      <td>78.925003</td>\n",
              "      <td>78.022499</td>\n",
              "      <td>78.397499</td>\n",
              "      <td>78.809998</td>\n",
              "      <td>108829200</td>\n",
              "      <td>78.135</td>\n",
              "      <td>76.2167</td>\n",
              "      <td>NaN</td>\n",
              "      <td>NaN</td>\n",
              "    </tr>\n",
              "    <tr>\n",
              "      <th>13</th>\n",
              "      <td>1/17/2020</td>\n",
              "      <td>79.684998</td>\n",
              "      <td>78.750000</td>\n",
              "      <td>79.067497</td>\n",
              "      <td>79.682503</td>\n",
              "      <td>137816400</td>\n",
              "      <td>79.000</td>\n",
              "      <td>76.7446</td>\n",
              "      <td>NaN</td>\n",
              "      <td>NaN</td>\n",
              "    </tr>\n",
              "    <tr>\n",
              "      <th>14</th>\n",
              "      <td>1/21/2020</td>\n",
              "      <td>79.754997</td>\n",
              "      <td>79.000000</td>\n",
              "      <td>79.297501</td>\n",
              "      <td>79.142502</td>\n",
              "      <td>110843200</td>\n",
              "      <td>78.465</td>\n",
              "      <td>77.1603</td>\n",
              "      <td>NaN</td>\n",
              "      <td>NaN</td>\n",
              "    </tr>\n",
              "    <tr>\n",
              "      <th>15</th>\n",
              "      <td>1/22/2020</td>\n",
              "      <td>79.997498</td>\n",
              "      <td>79.327499</td>\n",
              "      <td>79.644997</td>\n",
              "      <td>79.425003</td>\n",
              "      <td>101832400</td>\n",
              "      <td>78.745</td>\n",
              "      <td>77.6389</td>\n",
              "      <td>NaN</td>\n",
              "      <td>NaN</td>\n",
              "    </tr>\n",
              "    <tr>\n",
              "      <th>16</th>\n",
              "      <td>1/23/2020</td>\n",
              "      <td>79.889999</td>\n",
              "      <td>78.912498</td>\n",
              "      <td>79.480003</td>\n",
              "      <td>79.807503</td>\n",
              "      <td>104472000</td>\n",
              "      <td>79.124</td>\n",
              "      <td>78.0364</td>\n",
              "      <td>NaN</td>\n",
              "      <td>NaN</td>\n",
              "    </tr>\n",
              "    <tr>\n",
              "      <th>17</th>\n",
              "      <td>1/24/2020</td>\n",
              "      <td>80.832497</td>\n",
              "      <td>79.379997</td>\n",
              "      <td>80.062500</td>\n",
              "      <td>79.577499</td>\n",
              "      <td>146537600</td>\n",
              "      <td>78.896</td>\n",
              "      <td>78.2515</td>\n",
              "      <td>NaN</td>\n",
              "      <td>NaN</td>\n",
              "    </tr>\n",
              "    <tr>\n",
              "      <th>18</th>\n",
              "      <td>1/27/2020</td>\n",
              "      <td>77.942497</td>\n",
              "      <td>76.220001</td>\n",
              "      <td>77.514999</td>\n",
              "      <td>77.237503</td>\n",
              "      <td>161940000</td>\n",
              "      <td>76.576</td>\n",
              "      <td>78.2173</td>\n",
              "      <td>NaN</td>\n",
              "      <td>NaN</td>\n",
              "    </tr>\n",
              "    <tr>\n",
              "      <th>19</th>\n",
              "      <td>1/28/2020</td>\n",
              "      <td>79.599998</td>\n",
              "      <td>78.047501</td>\n",
              "      <td>78.150002</td>\n",
              "      <td>79.422501</td>\n",
              "      <td>162234000</td>\n",
              "      <td>78.742</td>\n",
              "      <td>78.2353</td>\n",
              "      <td>76.56000</td>\n",
              "      <td>NaN</td>\n",
              "    </tr>\n",
              "    <tr>\n",
              "      <th>20</th>\n",
              "      <td>1/29/2020</td>\n",
              "      <td>81.962502</td>\n",
              "      <td>80.345001</td>\n",
              "      <td>81.112503</td>\n",
              "      <td>81.084999</td>\n",
              "      <td>216229200</td>\n",
              "      <td>80.391</td>\n",
              "      <td>78.5243</td>\n",
              "      <td>76.96675</td>\n",
              "      <td>NaN</td>\n",
              "    </tr>\n",
              "    <tr>\n",
              "      <th>21</th>\n",
              "      <td>1/30/2020</td>\n",
              "      <td>81.022499</td>\n",
              "      <td>79.687500</td>\n",
              "      <td>80.135002</td>\n",
              "      <td>80.967499</td>\n",
              "      <td>126743200</td>\n",
              "      <td>80.274</td>\n",
              "      <td>78.8348</td>\n",
              "      <td>77.34125</td>\n",
              "      <td>NaN</td>\n",
              "    </tr>\n",
              "    <tr>\n",
              "      <th>22</th>\n",
              "      <td>1/31/2020</td>\n",
              "      <td>80.669998</td>\n",
              "      <td>77.072502</td>\n",
              "      <td>80.232498</td>\n",
              "      <td>77.377502</td>\n",
              "      <td>199588400</td>\n",
              "      <td>76.715</td>\n",
              "      <td>78.6928</td>\n",
              "      <td>77.45475</td>\n",
              "      <td>NaN</td>\n",
              "    </tr>\n",
              "    <tr>\n",
              "      <th>23</th>\n",
              "      <td>2/3/2020</td>\n",
              "      <td>78.372498</td>\n",
              "      <td>75.555000</td>\n",
              "      <td>76.074997</td>\n",
              "      <td>77.165001</td>\n",
              "      <td>173985600</td>\n",
              "      <td>76.504</td>\n",
              "      <td>78.4432</td>\n",
              "      <td>77.59390</td>\n",
              "      <td>NaN</td>\n",
              "    </tr>\n",
              "    <tr>\n",
              "      <th>24</th>\n",
              "      <td>2/4/2020</td>\n",
              "      <td>79.910004</td>\n",
              "      <td>78.407501</td>\n",
              "      <td>78.827499</td>\n",
              "      <td>79.712502</td>\n",
              "      <td>136616400</td>\n",
              "      <td>79.030</td>\n",
              "      <td>78.4997</td>\n",
              "      <td>77.83000</td>\n",
              "      <td>NaN</td>\n",
              "    </tr>\n",
              "    <tr>\n",
              "      <th>25</th>\n",
              "      <td>2/5/2020</td>\n",
              "      <td>81.190002</td>\n",
              "      <td>79.737503</td>\n",
              "      <td>80.879997</td>\n",
              "      <td>80.362503</td>\n",
              "      <td>118826800</td>\n",
              "      <td>79.674</td>\n",
              "      <td>78.5926</td>\n",
              "      <td>78.11575</td>\n",
              "      <td>NaN</td>\n",
              "    </tr>\n",
              "    <tr>\n",
              "      <th>26</th>\n",
              "      <td>2/6/2020</td>\n",
              "      <td>81.305000</td>\n",
              "      <td>80.065002</td>\n",
              "      <td>80.642502</td>\n",
              "      <td>81.302498</td>\n",
              "      <td>105425600</td>\n",
              "      <td>80.606</td>\n",
              "      <td>78.7408</td>\n",
              "      <td>78.38860</td>\n",
              "      <td>NaN</td>\n",
              "    </tr>\n",
              "    <tr>\n",
              "      <th>27</th>\n",
              "      <td>2/7/2020</td>\n",
              "      <td>80.849998</td>\n",
              "      <td>79.500000</td>\n",
              "      <td>80.592499</td>\n",
              "      <td>80.007500</td>\n",
              "      <td>117684000</td>\n",
              "      <td>79.511</td>\n",
              "      <td>78.8023</td>\n",
              "      <td>78.52690</td>\n",
              "      <td>NaN</td>\n",
              "    </tr>\n",
              "    <tr>\n",
              "      <th>28</th>\n",
              "      <td>2/10/2020</td>\n",
              "      <td>80.387497</td>\n",
              "      <td>78.462502</td>\n",
              "      <td>78.544998</td>\n",
              "      <td>80.387497</td>\n",
              "      <td>109348800</td>\n",
              "      <td>79.888</td>\n",
              "      <td>79.1335</td>\n",
              "      <td>78.67540</td>\n",
              "      <td>NaN</td>\n",
              "    </tr>\n",
              "    <tr>\n",
              "      <th>29</th>\n",
              "      <td>2/11/2020</td>\n",
              "      <td>80.974998</td>\n",
              "      <td>79.677498</td>\n",
              "      <td>80.900002</td>\n",
              "      <td>79.902496</td>\n",
              "      <td>94323200</td>\n",
              "      <td>79.406</td>\n",
              "      <td>79.1999</td>\n",
              "      <td>78.71760</td>\n",
              "      <td>NaN</td>\n",
              "    </tr>\n",
              "    <tr>\n",
              "      <th>30</th>\n",
              "      <td>2/12/2020</td>\n",
              "      <td>81.805000</td>\n",
              "      <td>80.367500</td>\n",
              "      <td>80.367500</td>\n",
              "      <td>81.800003</td>\n",
              "      <td>113730400</td>\n",
              "      <td>81.292</td>\n",
              "      <td>79.2900</td>\n",
              "      <td>78.90715</td>\n",
              "      <td>NaN</td>\n",
              "    </tr>\n",
              "    <tr>\n",
              "      <th>31</th>\n",
              "      <td>2/13/2020</td>\n",
              "      <td>81.555000</td>\n",
              "      <td>80.837502</td>\n",
              "      <td>81.047501</td>\n",
              "      <td>81.217499</td>\n",
              "      <td>94747600</td>\n",
              "      <td>80.713</td>\n",
              "      <td>79.3339</td>\n",
              "      <td>79.08435</td>\n",
              "      <td>NaN</td>\n",
              "    </tr>\n",
              "    <tr>\n",
              "      <th>32</th>\n",
              "      <td>2/14/2020</td>\n",
              "      <td>81.495003</td>\n",
              "      <td>80.712502</td>\n",
              "      <td>81.184998</td>\n",
              "      <td>81.237503</td>\n",
              "      <td>80113600</td>\n",
              "      <td>80.733</td>\n",
              "      <td>79.7357</td>\n",
              "      <td>79.21425</td>\n",
              "      <td>NaN</td>\n",
              "    </tr>\n",
              "    <tr>\n",
              "      <th>33</th>\n",
              "      <td>2/18/2020</td>\n",
              "      <td>79.937500</td>\n",
              "      <td>78.652496</td>\n",
              "      <td>78.839996</td>\n",
              "      <td>79.750000</td>\n",
              "      <td>152531200</td>\n",
              "      <td>79.255</td>\n",
              "      <td>80.0108</td>\n",
              "      <td>79.22700</td>\n",
              "      <td>NaN</td>\n",
              "    </tr>\n",
              "    <tr>\n",
              "      <th>34</th>\n",
              "      <td>2/19/2020</td>\n",
              "      <td>81.142502</td>\n",
              "      <td>80.000000</td>\n",
              "      <td>80.000000</td>\n",
              "      <td>80.904999</td>\n",
              "      <td>93984000</td>\n",
              "      <td>80.403</td>\n",
              "      <td>80.1481</td>\n",
              "      <td>79.32390</td>\n",
              "      <td>NaN</td>\n",
              "    </tr>\n",
              "    <tr>\n",
              "      <th>35</th>\n",
              "      <td>2/20/2020</td>\n",
              "      <td>81.162498</td>\n",
              "      <td>79.552498</td>\n",
              "      <td>80.657501</td>\n",
              "      <td>80.074997</td>\n",
              "      <td>100566000</td>\n",
              "      <td>79.578</td>\n",
              "      <td>80.1385</td>\n",
              "      <td>79.36555</td>\n",
              "      <td>NaN</td>\n",
              "    </tr>\n",
              "    <tr>\n",
              "      <th>36</th>\n",
              "      <td>2/21/2020</td>\n",
              "      <td>80.112503</td>\n",
              "      <td>77.625000</td>\n",
              "      <td>79.654999</td>\n",
              "      <td>78.262497</td>\n",
              "      <td>129554000</td>\n",
              "      <td>77.777</td>\n",
              "      <td>79.8556</td>\n",
              "      <td>79.29820</td>\n",
              "      <td>NaN</td>\n",
              "    </tr>\n",
              "    <tr>\n",
              "      <th>37</th>\n",
              "      <td>2/24/2020</td>\n",
              "      <td>76.044998</td>\n",
              "      <td>72.307503</td>\n",
              "      <td>74.315002</td>\n",
              "      <td>74.544998</td>\n",
              "      <td>222195200</td>\n",
              "      <td>74.082</td>\n",
              "      <td>79.3127</td>\n",
              "      <td>79.05750</td>\n",
              "      <td>NaN</td>\n",
              "    </tr>\n",
              "    <tr>\n",
              "      <th>38</th>\n",
              "      <td>2/25/2020</td>\n",
              "      <td>75.632500</td>\n",
              "      <td>71.532501</td>\n",
              "      <td>75.237503</td>\n",
              "      <td>72.019997</td>\n",
              "      <td>230673600</td>\n",
              "      <td>71.573</td>\n",
              "      <td>78.4812</td>\n",
              "      <td>78.80735</td>\n",
              "      <td>NaN</td>\n",
              "    </tr>\n",
              "    <tr>\n",
              "      <th>39</th>\n",
              "      <td>2/26/2020</td>\n",
              "      <td>74.470001</td>\n",
              "      <td>71.625000</td>\n",
              "      <td>71.632500</td>\n",
              "      <td>73.162498</td>\n",
              "      <td>198054800</td>\n",
              "      <td>72.708</td>\n",
              "      <td>77.8114</td>\n",
              "      <td>78.50565</td>\n",
              "      <td>NaN</td>\n",
              "    </tr>\n",
              "    <tr>\n",
              "      <th>40</th>\n",
              "      <td>2/27/2020</td>\n",
              "      <td>71.500000</td>\n",
              "      <td>68.239998</td>\n",
              "      <td>70.275002</td>\n",
              "      <td>68.379997</td>\n",
              "      <td>320605600</td>\n",
              "      <td>67.955</td>\n",
              "      <td>76.4777</td>\n",
              "      <td>77.88385</td>\n",
              "      <td>NaN</td>\n",
              "    </tr>\n",
              "    <tr>\n",
              "      <th>41</th>\n",
              "      <td>2/28/2020</td>\n",
              "      <td>69.602501</td>\n",
              "      <td>64.092499</td>\n",
              "      <td>64.315002</td>\n",
              "      <td>68.339996</td>\n",
              "      <td>426884800</td>\n",
              "      <td>67.916</td>\n",
              "      <td>75.1980</td>\n",
              "      <td>77.26595</td>\n",
              "      <td>NaN</td>\n",
              "    </tr>\n",
              "    <tr>\n",
              "      <th>42</th>\n",
              "      <td>3/2/2020</td>\n",
              "      <td>75.360001</td>\n",
              "      <td>69.430000</td>\n",
              "      <td>70.570000</td>\n",
              "      <td>74.702499</td>\n",
              "      <td>341397200</td>\n",
              "      <td>74.239</td>\n",
              "      <td>74.5486</td>\n",
              "      <td>77.14215</td>\n",
              "      <td>NaN</td>\n",
              "    </tr>\n",
              "    <tr>\n",
              "      <th>43</th>\n",
              "      <td>3/3/2020</td>\n",
              "      <td>76.000000</td>\n",
              "      <td>71.449997</td>\n",
              "      <td>75.917503</td>\n",
              "      <td>72.330002</td>\n",
              "      <td>319475600</td>\n",
              "      <td>71.881</td>\n",
              "      <td>73.8112</td>\n",
              "      <td>76.91100</td>\n",
              "      <td>NaN</td>\n",
              "    </tr>\n",
              "    <tr>\n",
              "      <th>44</th>\n",
              "      <td>3/4/2020</td>\n",
              "      <td>75.849998</td>\n",
              "      <td>73.282501</td>\n",
              "      <td>74.110001</td>\n",
              "      <td>75.684998</td>\n",
              "      <td>219178400</td>\n",
              "      <td>75.215</td>\n",
              "      <td>73.2924</td>\n",
              "      <td>76.72025</td>\n",
              "      <td>NaN</td>\n",
              "    </tr>\n",
              "    <tr>\n",
              "      <th>45</th>\n",
              "      <td>3/5/2020</td>\n",
              "      <td>74.887497</td>\n",
              "      <td>72.852501</td>\n",
              "      <td>73.879997</td>\n",
              "      <td>73.230003</td>\n",
              "      <td>187572800</td>\n",
              "      <td>72.775</td>\n",
              "      <td>72.6121</td>\n",
              "      <td>76.37530</td>\n",
              "      <td>NaN</td>\n",
              "    </tr>\n",
              "    <tr>\n",
              "      <th>46</th>\n",
              "      <td>3/6/2020</td>\n",
              "      <td>72.705002</td>\n",
              "      <td>70.307503</td>\n",
              "      <td>70.500000</td>\n",
              "      <td>72.257500</td>\n",
              "      <td>226176800</td>\n",
              "      <td>71.809</td>\n",
              "      <td>72.0153</td>\n",
              "      <td>75.93545</td>\n",
              "      <td>NaN</td>\n",
              "    </tr>\n",
              "    <tr>\n",
              "      <th>47</th>\n",
              "      <td>3/9/2020</td>\n",
              "      <td>69.522499</td>\n",
              "      <td>65.750000</td>\n",
              "      <td>65.937500</td>\n",
              "      <td>66.542503</td>\n",
              "      <td>286744800</td>\n",
              "      <td>66.129</td>\n",
              "      <td>71.2200</td>\n",
              "      <td>75.26635</td>\n",
              "      <td>NaN</td>\n",
              "    </tr>\n",
              "    <tr>\n",
              "      <th>48</th>\n",
              "      <td>3/10/2020</td>\n",
              "      <td>71.610001</td>\n",
              "      <td>67.342499</td>\n",
              "      <td>69.285004</td>\n",
              "      <td>71.334999</td>\n",
              "      <td>285290000</td>\n",
              "      <td>70.892</td>\n",
              "      <td>71.1519</td>\n",
              "      <td>74.81655</td>\n",
              "      <td>NaN</td>\n",
              "    </tr>\n",
              "    <tr>\n",
              "      <th>49</th>\n",
              "      <td>3/11/2020</td>\n",
              "      <td>70.305000</td>\n",
              "      <td>67.964996</td>\n",
              "      <td>69.347504</td>\n",
              "      <td>68.857498</td>\n",
              "      <td>255598800</td>\n",
              "      <td>68.430</td>\n",
              "      <td>70.7241</td>\n",
              "      <td>74.26775</td>\n",
              "      <td>76.17108</td>\n",
              "    </tr>\n",
              "    <tr>\n",
              "      <th>50</th>\n",
              "      <td>3/12/2020</td>\n",
              "      <td>67.500000</td>\n",
              "      <td>62.000000</td>\n",
              "      <td>63.985001</td>\n",
              "      <td>62.057499</td>\n",
              "      <td>418474000</td>\n",
              "      <td>61.672</td>\n",
              "      <td>70.0958</td>\n",
              "      <td>73.28675</td>\n",
              "      <td>75.95940</td>\n",
              "    </tr>\n",
              "    <tr>\n",
              "      <th>51</th>\n",
              "      <td>3/13/2020</td>\n",
              "      <td>69.980003</td>\n",
              "      <td>63.237499</td>\n",
              "      <td>66.222504</td>\n",
              "      <td>69.492500</td>\n",
              "      <td>370732000</td>\n",
              "      <td>69.061</td>\n",
              "      <td>70.2103</td>\n",
              "      <td>72.70415</td>\n",
              "      <td>75.88494</td>\n",
              "    </tr>\n",
              "    <tr>\n",
              "      <th>52</th>\n",
              "      <td>3/16/2020</td>\n",
              "      <td>64.769997</td>\n",
              "      <td>60.000000</td>\n",
              "      <td>60.487499</td>\n",
              "      <td>60.552502</td>\n",
              "      <td>322423600</td>\n",
              "      <td>60.177</td>\n",
              "      <td>68.8041</td>\n",
              "      <td>71.67635</td>\n",
              "      <td>75.59958</td>\n",
              "    </tr>\n",
              "    <tr>\n",
              "      <th>53</th>\n",
              "      <td>3/17/2020</td>\n",
              "      <td>64.402496</td>\n",
              "      <td>59.599998</td>\n",
              "      <td>61.877499</td>\n",
              "      <td>63.215000</td>\n",
              "      <td>324056000</td>\n",
              "      <td>62.822</td>\n",
              "      <td>67.8982</td>\n",
              "      <td>70.85470</td>\n",
              "      <td>75.38160</td>\n",
              "    </tr>\n",
              "    <tr>\n",
              "      <th>54</th>\n",
              "      <td>3/18/2020</td>\n",
              "      <td>62.500000</td>\n",
              "      <td>59.279999</td>\n",
              "      <td>59.942501</td>\n",
              "      <td>61.667500</td>\n",
              "      <td>300233600</td>\n",
              "      <td>61.285</td>\n",
              "      <td>66.5052</td>\n",
              "      <td>69.89880</td>\n",
              "      <td>75.12114</td>\n",
              "    </tr>\n",
              "  </tbody>\n",
              "</table>\n",
              "</div>"
            ],
            "text/plain": [
              "          Date       High        Low  ...  MA 10 days  MA 20 days  MA 50 days\n",
              "0   12/30/2019  73.172501  71.305000  ...         NaN         NaN         NaN\n",
              "1   12/31/2019  73.419998  72.379997  ...         NaN         NaN         NaN\n",
              "2     1/2/2020  75.150002  73.797501  ...         NaN         NaN         NaN\n",
              "3     1/3/2020  75.144997  74.125000  ...         NaN         NaN         NaN\n",
              "4     1/6/2020  74.989998  73.187500  ...         NaN         NaN         NaN\n",
              "5     1/7/2020  75.224998  74.370003  ...         NaN         NaN         NaN\n",
              "6     1/8/2020  76.110001  74.290001  ...         NaN         NaN         NaN\n",
              "7     1/9/2020  77.607498  76.550003  ...         NaN         NaN         NaN\n",
              "8    1/10/2020  78.167503  77.062500  ...         NaN         NaN         NaN\n",
              "9    1/13/2020  79.267502  77.787498  ...     74.8847         NaN         NaN\n",
              "10   1/14/2020  79.392502  78.042503  ...     75.4092         NaN         NaN\n",
              "11   1/15/2020  78.875000  77.387497  ...     75.8477         NaN         NaN\n",
              "12   1/16/2020  78.925003  78.022499  ...     76.2167         NaN         NaN\n",
              "13   1/17/2020  79.684998  78.750000  ...     76.7446         NaN         NaN\n",
              "14   1/21/2020  79.754997  79.000000  ...     77.1603         NaN         NaN\n",
              "15   1/22/2020  79.997498  79.327499  ...     77.6389         NaN         NaN\n",
              "16   1/23/2020  79.889999  78.912498  ...     78.0364         NaN         NaN\n",
              "17   1/24/2020  80.832497  79.379997  ...     78.2515         NaN         NaN\n",
              "18   1/27/2020  77.942497  76.220001  ...     78.2173         NaN         NaN\n",
              "19   1/28/2020  79.599998  78.047501  ...     78.2353    76.56000         NaN\n",
              "20   1/29/2020  81.962502  80.345001  ...     78.5243    76.96675         NaN\n",
              "21   1/30/2020  81.022499  79.687500  ...     78.8348    77.34125         NaN\n",
              "22   1/31/2020  80.669998  77.072502  ...     78.6928    77.45475         NaN\n",
              "23    2/3/2020  78.372498  75.555000  ...     78.4432    77.59390         NaN\n",
              "24    2/4/2020  79.910004  78.407501  ...     78.4997    77.83000         NaN\n",
              "25    2/5/2020  81.190002  79.737503  ...     78.5926    78.11575         NaN\n",
              "26    2/6/2020  81.305000  80.065002  ...     78.7408    78.38860         NaN\n",
              "27    2/7/2020  80.849998  79.500000  ...     78.8023    78.52690         NaN\n",
              "28   2/10/2020  80.387497  78.462502  ...     79.1335    78.67540         NaN\n",
              "29   2/11/2020  80.974998  79.677498  ...     79.1999    78.71760         NaN\n",
              "30   2/12/2020  81.805000  80.367500  ...     79.2900    78.90715         NaN\n",
              "31   2/13/2020  81.555000  80.837502  ...     79.3339    79.08435         NaN\n",
              "32   2/14/2020  81.495003  80.712502  ...     79.7357    79.21425         NaN\n",
              "33   2/18/2020  79.937500  78.652496  ...     80.0108    79.22700         NaN\n",
              "34   2/19/2020  81.142502  80.000000  ...     80.1481    79.32390         NaN\n",
              "35   2/20/2020  81.162498  79.552498  ...     80.1385    79.36555         NaN\n",
              "36   2/21/2020  80.112503  77.625000  ...     79.8556    79.29820         NaN\n",
              "37   2/24/2020  76.044998  72.307503  ...     79.3127    79.05750         NaN\n",
              "38   2/25/2020  75.632500  71.532501  ...     78.4812    78.80735         NaN\n",
              "39   2/26/2020  74.470001  71.625000  ...     77.8114    78.50565         NaN\n",
              "40   2/27/2020  71.500000  68.239998  ...     76.4777    77.88385         NaN\n",
              "41   2/28/2020  69.602501  64.092499  ...     75.1980    77.26595         NaN\n",
              "42    3/2/2020  75.360001  69.430000  ...     74.5486    77.14215         NaN\n",
              "43    3/3/2020  76.000000  71.449997  ...     73.8112    76.91100         NaN\n",
              "44    3/4/2020  75.849998  73.282501  ...     73.2924    76.72025         NaN\n",
              "45    3/5/2020  74.887497  72.852501  ...     72.6121    76.37530         NaN\n",
              "46    3/6/2020  72.705002  70.307503  ...     72.0153    75.93545         NaN\n",
              "47    3/9/2020  69.522499  65.750000  ...     71.2200    75.26635         NaN\n",
              "48   3/10/2020  71.610001  67.342499  ...     71.1519    74.81655         NaN\n",
              "49   3/11/2020  70.305000  67.964996  ...     70.7241    74.26775    76.17108\n",
              "50   3/12/2020  67.500000  62.000000  ...     70.0958    73.28675    75.95940\n",
              "51   3/13/2020  69.980003  63.237499  ...     70.2103    72.70415    75.88494\n",
              "52   3/16/2020  64.769997  60.000000  ...     68.8041    71.67635    75.59958\n",
              "53   3/17/2020  64.402496  59.599998  ...     67.8982    70.85470    75.38160\n",
              "54   3/18/2020  62.500000  59.279999  ...     66.5052    69.89880    75.12114\n",
              "\n",
              "[55 rows x 10 columns]"
            ]
          },
          "metadata": {
            "tags": []
          },
          "execution_count": 16
        }
      ]
    },
    {
      "cell_type": "markdown",
      "metadata": {
        "id": "vjxqf-a7weeM"
      },
      "source": [
        "Visualize it."
      ]
    },
    {
      "cell_type": "code",
      "metadata": {
        "colab": {
          "base_uri": "https://localhost:8080/",
          "height": 306
        },
        "id": "OMdHraVlTzr-",
        "outputId": "508c886c-a844-46fd-afac-8294672e424e"
      },
      "source": [
        "AAPL[['Adj Close','MA 10 days','MA 20 days','MA 50 days']].plot(figsize=(12,5))"
      ],
      "execution_count": null,
      "outputs": [
        {
          "output_type": "execute_result",
          "data": {
            "text/plain": [
              "<matplotlib.axes._subplots.AxesSubplot at 0x7f011fa2e128>"
            ]
          },
          "metadata": {
            "tags": []
          },
          "execution_count": 17
        },
        {
          "output_type": "display_data",
          "data": {
            "image/png": "[encoded data removed]",
            "text/plain": [
              "<Figure size 864x360 with 1 Axes>"
            ]
          },
          "metadata": {
            "tags": []
          }
        }
      ]
    },
    {
      "cell_type": "markdown",
      "metadata": {
        "id": "0hY8P_3XxgfU"
      },
      "source": [
        "In order calculate daily return, we can use the percentage change of the adjusted closing price."
      ]
    },
    {
      "cell_type": "code",
      "metadata": {
        "colab": {
          "base_uri": "https://localhost:8080/",
          "height": 249
        },
        "id": "9DMPVXhWUBTN",
        "outputId": "e4dd7e70-20a1-48b9-cb68-8d59afa68f9c"
      },
      "source": [
        "AAPL['Daily Return']=AAPL['Adj Close'].pct_change()\n",
        "AAPL.head()"
      ],
      "execution_count": null,
      "outputs": [
        {
          "output_type": "execute_result",
          "data": {
            "text/html": [
              "<div>\n",
              "<style scoped>\n",
              "    .dataframe tbody tr th:only-of-type {\n",
              "        vertical-align: middle;\n",
              "    }\n",
              "\n",
              "    .dataframe tbody tr th {\n",
              "        vertical-align: top;\n",
              "    }\n",
              "\n",
              "    .dataframe thead th {\n",
              "        text-align: right;\n",
              "    }\n",
              "</style>\n",
              "<table border=\"1\" class=\"dataframe\">\n",
              "  <thead>\n",
              "    <tr style=\"text-align: right;\">\n",
              "      <th></th>\n",
              "      <th>Date</th>\n",
              "      <th>High</th>\n",
              "      <th>Low</th>\n",
              "      <th>Open</th>\n",
              "      <th>Close</th>\n",
              "      <th>Volume</th>\n",
              "      <th>Adj Close</th>\n",
              "      <th>MA 10 days</th>\n",
              "      <th>MA 20 days</th>\n",
              "      <th>MA 50 days</th>\n",
              "      <th>Daily Return</th>\n",
              "    </tr>\n",
              "  </thead>\n",
              "  <tbody>\n",
              "    <tr>\n",
              "      <th>0</th>\n",
              "      <td>12/30/2019</td>\n",
              "      <td>73.172501</td>\n",
              "      <td>71.305000</td>\n",
              "      <td>72.364998</td>\n",
              "      <td>72.879997</td>\n",
              "      <td>144114400</td>\n",
              "      <td>72.256</td>\n",
              "      <td>NaN</td>\n",
              "      <td>NaN</td>\n",
              "      <td>NaN</td>\n",
              "      <td>NaN</td>\n",
              "    </tr>\n",
              "    <tr>\n",
              "      <th>1</th>\n",
              "      <td>12/31/2019</td>\n",
              "      <td>73.419998</td>\n",
              "      <td>72.379997</td>\n",
              "      <td>72.482498</td>\n",
              "      <td>73.412498</td>\n",
              "      <td>100805600</td>\n",
              "      <td>72.784</td>\n",
              "      <td>NaN</td>\n",
              "      <td>NaN</td>\n",
              "      <td>NaN</td>\n",
              "      <td>0.007307</td>\n",
              "    </tr>\n",
              "    <tr>\n",
              "      <th>2</th>\n",
              "      <td>1/2/2020</td>\n",
              "      <td>75.150002</td>\n",
              "      <td>73.797501</td>\n",
              "      <td>74.059998</td>\n",
              "      <td>75.087502</td>\n",
              "      <td>135480400</td>\n",
              "      <td>74.445</td>\n",
              "      <td>NaN</td>\n",
              "      <td>NaN</td>\n",
              "      <td>NaN</td>\n",
              "      <td>0.022821</td>\n",
              "    </tr>\n",
              "    <tr>\n",
              "      <th>3</th>\n",
              "      <td>1/3/2020</td>\n",
              "      <td>75.144997</td>\n",
              "      <td>74.125000</td>\n",
              "      <td>74.287498</td>\n",
              "      <td>74.357498</td>\n",
              "      <td>146322800</td>\n",
              "      <td>73.721</td>\n",
              "      <td>NaN</td>\n",
              "      <td>NaN</td>\n",
              "      <td>NaN</td>\n",
              "      <td>-0.009725</td>\n",
              "    </tr>\n",
              "    <tr>\n",
              "      <th>4</th>\n",
              "      <td>1/6/2020</td>\n",
              "      <td>74.989998</td>\n",
              "      <td>73.187500</td>\n",
              "      <td>73.447502</td>\n",
              "      <td>74.949997</td>\n",
              "      <td>118387200</td>\n",
              "      <td>74.308</td>\n",
              "      <td>NaN</td>\n",
              "      <td>NaN</td>\n",
              "      <td>NaN</td>\n",
              "      <td>0.007962</td>\n",
              "    </tr>\n",
              "  </tbody>\n",
              "</table>\n",
              "</div>"
            ],
            "text/plain": [
              "         Date       High        Low  ...  MA 20 days  MA 50 days  Daily Return\n",
              "0  12/30/2019  73.172501  71.305000  ...         NaN         NaN           NaN\n",
              "1  12/31/2019  73.419998  72.379997  ...         NaN         NaN      0.007307\n",
              "2    1/2/2020  75.150002  73.797501  ...         NaN         NaN      0.022821\n",
              "3    1/3/2020  75.144997  74.125000  ...         NaN         NaN     -0.009725\n",
              "4    1/6/2020  74.989998  73.187500  ...         NaN         NaN      0.007962\n",
              "\n",
              "[5 rows x 11 columns]"
            ]
          },
          "metadata": {
            "tags": []
          },
          "execution_count": 19
        }
      ]
    },
    {
      "cell_type": "markdown",
      "metadata": {
        "id": "rerdmExJxuNH"
      },
      "source": [
        "Let us now plot the daily return"
      ]
    },
    {
      "cell_type": "code",
      "metadata": {
        "colab": {
          "base_uri": "https://localhost:8080/",
          "height": 302
        },
        "id": "0g9unbgSUUie",
        "outputId": "5201de47-83a3-4eeb-a8d7-78631a439521"
      },
      "source": [
        "AAPL['Daily Return'].plot(figsize=(12,5))"
      ],
      "execution_count": null,
      "outputs": [
        {
          "output_type": "execute_result",
          "data": {
            "text/plain": [
              "<matplotlib.axes._subplots.AxesSubplot at 0x7f0110aa6940>"
            ]
          },
          "metadata": {
            "tags": []
          },
          "execution_count": 20
        },
        {
          "output_type": "display_data",
          "data": {
            "image/png": "[encoded data removed]",
            "text/plain": [
              "<Figure size 864x360 with 1 Axes>"
            ]
          },
          "metadata": {
            "tags": []
          }
        }
      ]
    },
    {
      "cell_type": "markdown",
      "metadata": {
        "id": "xHXtpJ3wyIho"
      },
      "source": [
        "**argmax()** function returns indices of the max element of the array in a particular axis.\n",
        "\n",
        "**max()** function returns value of the max element of the array in a particular axis.\n",
        "\n"
      ]
    },
    {
      "cell_type": "code",
      "metadata": {
        "colab": {
          "base_uri": "https://localhost:8080/"
        },
        "id": "alO4V3GvUc-a",
        "outputId": "6fd41aa7-0bc6-40f6-e951-d153655d3e49"
      },
      "source": [
        "pos = AAPL['Daily Return'].argmax()\n",
        "max =AAPL['Daily Return'].max()\n",
        "print(pos,max,AAPL.loc[pos,\"Daily Return\"])"
      ],
      "execution_count": null,
      "outputs": [
        {
          "output_type": "stream",
          "text": [
            "51 0.11981125956674044 0.11981125956674044\n"
          ],
          "name": "stdout"
        }
      ]
    },
    {
      "cell_type": "markdown",
      "metadata": {
        "id": "GakR6G8Nyf4y"
      },
      "source": [
        "**Pandas** is seriously a game changer when it comes to cleaning, transforming, manipulating and analyzing data. In simple terms, Pandas helps to clean the mess."
      ]
    },
    {
      "cell_type": "code",
      "metadata": {
        "id": "t8dWhQP0Uu07"
      },
      "source": [
        "all_stocks=pd.DataFrame(columns=['Apple','Google','Microsoft'],index=AAPL['Date'])\n"
      ],
      "execution_count": null,
      "outputs": []
    },
    {
      "cell_type": "code",
      "metadata": {
        "id": "VQhmgv40U8J-"
      },
      "source": [
        "all_stocks['Apple']=AAPL['Adj Close'].values\n",
        "all_stocks['Google']=GOOG['Adj Close'].values\n",
        "all_stocks['Microsoft']=MSFT['Adj Close'].values\n"
      ],
      "execution_count": null,
      "outputs": []
    },
    {
      "cell_type": "code",
      "metadata": {
        "colab": {
          "base_uri": "https://localhost:8080/",
          "height": 225
        },
        "id": "-LRHgnLPVJCG",
        "outputId": "b3549741-00d5-4fc6-ee8a-729851e06984"
      },
      "source": [
        "all_stocks.head()"
      ],
      "execution_count": null,
      "outputs": [
        {
          "output_type": "execute_result",
          "data": {
            "text/html": [
              "<div>\n",
              "<style scoped>\n",
              "    .dataframe tbody tr th:only-of-type {\n",
              "        vertical-align: middle;\n",
              "    }\n",
              "\n",
              "    .dataframe tbody tr th {\n",
              "        vertical-align: top;\n",
              "    }\n",
              "\n",
              "    .dataframe thead th {\n",
              "        text-align: right;\n",
              "    }\n",
              "</style>\n",
              "<table border=\"1\" class=\"dataframe\">\n",
              "  <thead>\n",
              "    <tr style=\"text-align: right;\">\n",
              "      <th></th>\n",
              "      <th>Apple</th>\n",
              "      <th>Google</th>\n",
              "      <th>Microsoft</th>\n",
              "    </tr>\n",
              "    <tr>\n",
              "      <th>Date</th>\n",
              "      <th></th>\n",
              "      <th></th>\n",
              "      <th></th>\n",
              "    </tr>\n",
              "  </thead>\n",
              "  <tbody>\n",
              "    <tr>\n",
              "      <th>12/30/2019</th>\n",
              "      <td>72.256</td>\n",
              "      <td>1336.140015</td>\n",
              "      <td>155.938049</td>\n",
              "    </tr>\n",
              "    <tr>\n",
              "      <th>12/31/2019</th>\n",
              "      <td>72.784</td>\n",
              "      <td>1337.020020</td>\n",
              "      <td>156.046890</td>\n",
              "    </tr>\n",
              "    <tr>\n",
              "      <th>1/2/2020</th>\n",
              "      <td>74.445</td>\n",
              "      <td>1367.369995</td>\n",
              "      <td>158.936279</td>\n",
              "    </tr>\n",
              "    <tr>\n",
              "      <th>1/3/2020</th>\n",
              "      <td>73.721</td>\n",
              "      <td>1360.660034</td>\n",
              "      <td>156.957260</td>\n",
              "    </tr>\n",
              "    <tr>\n",
              "      <th>1/6/2020</th>\n",
              "      <td>74.308</td>\n",
              "      <td>1394.209961</td>\n",
              "      <td>157.362961</td>\n",
              "    </tr>\n",
              "  </tbody>\n",
              "</table>\n",
              "</div>"
            ],
            "text/plain": [
              "             Apple       Google   Microsoft\n",
              "Date                                       \n",
              "12/30/2019  72.256  1336.140015  155.938049\n",
              "12/31/2019  72.784  1337.020020  156.046890\n",
              "1/2/2020    74.445  1367.369995  158.936279\n",
              "1/3/2020    73.721  1360.660034  156.957260\n",
              "1/6/2020    74.308  1394.209961  157.362961"
            ]
          },
          "metadata": {
            "tags": []
          },
          "execution_count": 25
        }
      ]
    },
    {
      "cell_type": "markdown",
      "metadata": {
        "id": "Y58-QdfXzHcf"
      },
      "source": [
        "Using heatmap to understand the correlation between various features of a data frame.\n",
        "\n",
        "In the heatmap, dark colors show good marks, and light color shows bad marks. Heatmaps adjust the brightness of the color according to the highest and lowest marks in the dataset. The highest score is represented by the darkest color and the lowest score by the brightest color."
      ]
    },
    {
      "cell_type": "code",
      "metadata": {
        "colab": {
          "base_uri": "https://localhost:8080/",
          "height": 282
        },
        "id": "qLYHajROVLDQ",
        "outputId": "9d83c1b2-f668-4abf-98a7-33ca89ea3de9"
      },
      "source": [
        "import numpy as np \n",
        "corr = all_stocks.dropna().corr()\n",
        "mask = np.triu(np.ones_like(corr, dtype=bool))\n",
        "\n",
        "sns.heatmap(corr, annot=True, mask=mask)"
      ],
      "execution_count": null,
      "outputs": [
        {
          "output_type": "execute_result",
          "data": {
            "text/plain": [
              "<matplotlib.axes._subplots.AxesSubplot at 0x7f010f3cb780>"
            ]
          },
          "metadata": {
            "tags": []
          },
          "execution_count": 33
        },
        {
          "output_type": "display_data",
          "data": {
            "image/png": "[encoded data removed]",
            "text/plain": [
              "<Figure size 432x288 with 2 Axes>"
            ]
          },
          "metadata": {
            "tags": []
          }
        }
      ]
    },
    {
      "cell_type": "markdown",
      "metadata": {
        "id": "q_dANcLjzfTJ"
      },
      "source": [
        "This heatmap show me that if stock of Apple increase, there will be 93% stock of Micresoft increase and vice versa."
      ]
    }
  ]
}